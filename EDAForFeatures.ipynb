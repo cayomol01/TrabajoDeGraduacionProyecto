{
  "nbformat": 4,
  "nbformat_minor": 0,
  "metadata": {
    "colab": {
      "private_outputs": true,
      "provenance": [],
      "authorship_tag": "ABX9TyMqNHjpAWRrl1QEEqzwexWI",
      "include_colab_link": true
    },
    "kernelspec": {
      "name": "python3",
      "display_name": "Python 3"
    },
    "language_info": {
      "name": "python"
    }
  },
  "cells": [
    {
      "cell_type": "markdown",
      "metadata": {
        "id": "view-in-github",
        "colab_type": "text"
      },
      "source": [
        "<a href=\"https://colab.research.google.com/github/cayomol01/TrabajoDeGraduacionProyecto/blob/FiltersTest/EDAForFeatures.ipynb\" target=\"_parent\"><img src=\"https://colab.research.google.com/assets/colab-badge.svg\" alt=\"Open In Colab\"/></a>"
      ]
    },
    {
      "cell_type": "code",
      "execution_count": null,
      "metadata": {
        "id": "owRuekzRbxf0"
      },
      "outputs": [],
      "source": [
        "from google.colab import drive\n",
        "drive.mount('/content/drive')"
      ]
    },
    {
      "cell_type": "code",
      "source": [
        "file_path = '/content/drive/My Drive/ProyectoTesis/AllFeatureData.pkl'\n"
      ],
      "metadata": {
        "id": "9A7jSE6Fdus4"
      },
      "execution_count": null,
      "outputs": []
    },
    {
      "cell_type": "code",
      "source": [
        "import pandas as pd\n",
        "import tensorflow as tf\n",
        "import numpy as np"
      ],
      "metadata": {
        "id": "xuv1dWDQexSy"
      },
      "execution_count": null,
      "outputs": []
    },
    {
      "cell_type": "code",
      "source": [
        "allData = pd.read_pickle(file_path)"
      ],
      "metadata": {
        "id": "P3biqaKlevgD"
      },
      "execution_count": null,
      "outputs": []
    },
    {
      "cell_type": "code",
      "source": [
        "featureData = allData.copy()"
      ],
      "metadata": {
        "id": "p7XcpTm9iv3n"
      },
      "execution_count": null,
      "outputs": []
    },
    {
      "cell_type": "code",
      "source": [
        "features = allData.columns[:-1]\n",
        "features"
      ],
      "metadata": {
        "id": "PF_q2Zdbivov"
      },
      "execution_count": null,
      "outputs": []
    },
    {
      "cell_type": "code",
      "source": [
        "for feature in features:\n",
        "  featureData[feature] = featureData[feature].apply(lambda x: np.mean(x))\n",
        "\n",
        "featureData.head()"
      ],
      "metadata": {
        "id": "9kov12Slobdm"
      },
      "execution_count": null,
      "outputs": []
    },
    {
      "cell_type": "code",
      "source": [
        "import seaborn as sns\n",
        "import matplotlib.pyplot as plt"
      ],
      "metadata": {
        "id": "w9NICof3KNmM"
      },
      "execution_count": null,
      "outputs": []
    },
    {
      "cell_type": "code",
      "source": [
        "num_data = featureData[features]"
      ],
      "metadata": {
        "id": "ssgz7aUeKsKf"
      },
      "execution_count": null,
      "outputs": []
    },
    {
      "cell_type": "code",
      "source": [
        "corr = num_data.corr()\n",
        "\n",
        "# Set up the matplotlib figure\n",
        "plt.figure(figsize=(10, 8))\n",
        "\n",
        "# Create a heatmap\n",
        "sns.heatmap(corr, annot=True, fmt='.2f', cmap='coolwarm', square=True, cbar_kws={\"shrink\": .8})\n",
        "\n",
        "# Add title\n",
        "plt.title('Heatmap of Correlation Matrix', fontsize=16)\n",
        "\n",
        "# Show the plot\n",
        "plt.show()"
      ],
      "metadata": {
        "id": "1VKKDCi_Kp1y"
      },
      "execution_count": null,
      "outputs": []
    },
    {
      "cell_type": "code",
      "source": [
        "for feature in features:\n",
        "  spoof_data = featureData[featureData[\"Label\"]==\"spoof\"][feature]\n",
        "  bonafide_data = featureData[featureData[\"Label\"]==\"bonafide\"][feature]\n",
        "     # Create histograms\n",
        "  plt.hist(spoof_data, alpha=0.5, density=True, label='Spoof')\n",
        "  plt.hist(bonafide_data, alpha=0.5, density=True, label='Bonafide')\n",
        "\n",
        "  # Add titles and labels\n",
        "  plt.title(f'Distribución de {feature}')\n",
        "  plt.xlabel(feature)\n",
        "  plt.ylabel('Densidad')\n",
        "  plt.legend()\n",
        "  plt.show()\n"
      ],
      "metadata": {
        "id": "T5ad1nZvLSnk"
      },
      "execution_count": null,
      "outputs": []
    },
    {
      "cell_type": "code",
      "source": [
        "import pickle as pkl"
      ],
      "metadata": {
        "id": "yFLazG1dqP4l"
      },
      "execution_count": null,
      "outputs": []
    },
    {
      "cell_type": "code",
      "source": [
        "''' path = '/content/drive/My Drive/ProyectoTesis/MeanDataNoFilter.pkl' '''"
      ],
      "metadata": {
        "id": "uE0PdajYqWGR"
      },
      "execution_count": null,
      "outputs": []
    },
    {
      "cell_type": "code",
      "source": [
        "''' # Save the object to a file\n",
        "with open(path, 'wb') as file:  # Open the file in write-binary mode\n",
        "    pkl.dump(featureData, file) '''"
      ],
      "metadata": {
        "id": "FHm61X2sqaRW"
      },
      "execution_count": null,
      "outputs": []
    },
    {
      "cell_type": "code",
      "source": [
        "window_size = 5\n",
        "\n",
        "prueba = featureData.copy()"
      ],
      "metadata": {
        "id": "xiO7Uc5qoX8u"
      },
      "execution_count": null,
      "outputs": []
    },
    {
      "cell_type": "code",
      "source": [
        "prueba.columns"
      ],
      "metadata": {
        "id": "uJ2tHTZKt_5C"
      },
      "execution_count": null,
      "outputs": []
    },
    {
      "cell_type": "code",
      "source": [
        "prueba.head()"
      ],
      "metadata": {
        "id": "QTaJWtXYuEXi"
      },
      "execution_count": null,
      "outputs": []
    },
    {
      "cell_type": "code",
      "source": [
        "def moving_average(arr, window_size=5):\n",
        "    return np.convolve(arr, np.ones(window_size) / window_size, mode='valid')\n",
        "\n",
        "# Apply to each feature (column in DataFrame)\n",
        "prueba['zcr'] = prueba['zcr'].rolling(2).mean()\n"
      ],
      "metadata": {
        "id": "YT4bI4qVq-5H"
      },
      "execution_count": null,
      "outputs": []
    },
    {
      "cell_type": "code",
      "source": [
        "prueba.head()"
      ],
      "metadata": {
        "id": "sXdb4Z6Cq__r"
      },
      "execution_count": null,
      "outputs": []
    },
    {
      "cell_type": "code",
      "source": [],
      "metadata": {
        "id": "O7yiehkwuIkG"
      },
      "execution_count": null,
      "outputs": []
    }
  ]
}