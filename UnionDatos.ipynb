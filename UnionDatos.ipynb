{
 "cells": [
  {
   "cell_type": "code",
   "execution_count": 1,
   "metadata": {},
   "outputs": [],
   "source": [
    "import shutil\n",
    "import os"
   ]
  },
  {
   "cell_type": "code",
   "execution_count": 9,
   "metadata": {},
   "outputs": [],
   "source": [
    "path1 = \"ASVspoof2021_DF_eval/flac\"\n",
    "path2 =\"ASVspoof2021_DF_eval_part01/ASVspoof2021_DF_eval/flac\"\n",
    "path3 = \"ASVspoof2021_DF_eval_part02/ASVspoof2021_DF_eval/flac\"\n",
    "path4 = \"ASVspoof2021_DF_eval_part03/ASVspoof2021_DF_eval/flac\"\n",
    "paths = [path1, path2, path3, path4]"
   ]
  },
  {
   "cell_type": "code",
   "execution_count": 10,
   "metadata": {},
   "outputs": [],
   "source": [
    "datos1 = os.listdir(path=path1)\n",
    "datos2 = os.listdir(path=path2)\n",
    "datos3 = os.listdir(path=path3)\n",
    "datos4 = os.listdir(path=path4)\n",
    "\n",
    "datos = [datos1,datos2, datos3, datos4]\n",
    "datos_finales = []"
   ]
  },
  {
   "cell_type": "code",
   "execution_count": 11,
   "metadata": {},
   "outputs": [
    {
     "name": "stdout",
     "output_type": "stream",
     "text": [
      "764787\n"
     ]
    }
   ],
   "source": [
    "counter = 0\n",
    "datos_repetidos = {}\n",
    "for i in datos:\n",
    "    datos_finales.extend(i)\n",
    "    \n",
    "print(len(datos_finales))\n",
    "            "
   ]
  },
  {
   "cell_type": "code",
   "execution_count": 19,
   "metadata": {},
   "outputs": [
    {
     "name": "stdout",
     "output_type": "stream",
     "text": [
      "[1, 2] 3\n"
     ]
    }
   ],
   "source": [
    "hola = [1,2,3]\n",
    "*a,c = hola\n",
    "print(a,c)"
   ]
  },
  {
   "cell_type": "code",
   "execution_count": 21,
   "metadata": {},
   "outputs": [],
   "source": [
    "def ExtractNumber(path):\n",
    "    name, _ = path.split('.')\n",
    "    *_, number = name.split('_')\n",
    "    return number"
   ]
  },
  {
   "cell_type": "code",
   "execution_count": 20,
   "metadata": {},
   "outputs": [],
   "source": [
    "def BinarySearch(path, CompareList):\n",
    "    pathNum = ExtractNumber(path)\n",
    "    low = 0\n",
    "    high = len(CompareList)-1\n",
    "    while low <= high:\n",
    "    \n",
    "        mid = low + (high - low) // 2\n",
    "\n",
    "        # Check if x is present at mid\n",
    "        if ExtractNumber(CompareList[mid]) == pathNum:\n",
    "            return mid\n",
    "\n",
    "        # If x is greater, ignore left half\n",
    "        elif ExtractNumber(CompareList[mid]) < pathNum:\n",
    "            low = mid + 1\n",
    "\n",
    "        # If x is smaller, ignore right half\n",
    "        else:\n",
    "            high = mid - 1\n",
    "    return -1"
   ]
  },
  {
   "cell_type": "code",
   "execution_count": 4,
   "metadata": {},
   "outputs": [],
   "source": [
    "repetidos = {}\n",
    "for i in datos_finales:\n",
    "    if i not in repetidos:\n",
    "        repetidos[i] = 0\n",
    "    else:\n",
    "        repetidos[i] += 1\n"
   ]
  },
  {
   "cell_type": "code",
   "execution_count": 5,
   "metadata": {},
   "outputs": [
    {
     "name": "stdout",
     "output_type": "stream",
     "text": [
      "DF_E_2749697.flac 1\n"
     ]
    }
   ],
   "source": [
    "max_key = max(repetidos, key=repetidos.get)\n",
    "print(max_key, repetidos[max_key])"
   ]
  },
  {
   "cell_type": "code",
   "execution_count": 6,
   "metadata": {},
   "outputs": [],
   "source": [
    "count = 0\n",
    "for i in repetidos.values():\n",
    "    count+=i\n",
    "    "
   ]
  },
  {
   "cell_type": "code",
   "execution_count": 7,
   "metadata": {},
   "outputs": [
    {
     "name": "stdout",
     "output_type": "stream",
     "text": [
      "152958\n"
     ]
    }
   ],
   "source": [
    "print(count)"
   ]
  },
  {
   "cell_type": "code",
   "execution_count": 12,
   "metadata": {},
   "outputs": [
    {
     "data": {
      "text/plain": [
       "611829"
      ]
     },
     "execution_count": 12,
     "metadata": {},
     "output_type": "execute_result"
    }
   ],
   "source": [
    "datos_f = list(set(datos_finales))\n",
    "datos_f.sort()\n",
    "\n",
    "len(datos_f)\n"
   ]
  },
  {
   "cell_type": "code",
   "execution_count": 31,
   "metadata": {},
   "outputs": [
    {
     "name": "stdout",
     "output_type": "stream",
     "text": [
      "-1 DF_E_2000011.flac DF_E_2749697.flac\n"
     ]
    }
   ],
   "source": [
    "res = BinarySearch(datos_f[0], datos[3])\n",
    "print(res, datos_f[0], datos[1][0])"
   ]
  },
  {
   "cell_type": "code",
   "execution_count": 38,
   "metadata": {},
   "outputs": [],
   "source": [
    "datosp = [set(i) for i in datos]"
   ]
  },
  {
   "cell_type": "code",
   "execution_count": 37,
   "metadata": {},
   "outputs": [
    {
     "name": "stdout",
     "output_type": "stream",
     "text": [
      "ASVspoof2021_DF_eval/flac/DF_E_2000447.flac\n"
     ]
    }
   ],
   "source": [
    "prueba = []\n",
    "for i in datos_f:\n",
    "    for j in range(len(datos)):\n",
    "        if res:=BinarySearch(i,datos[j])!=-1:\n",
    "            prueba.append(f'{paths[j]}/{i}')\n",
    "            break\n",
    "        \n",
    "print(prueba[100])"
   ]
  },
  {
   "cell_type": "code",
   "execution_count": null,
   "metadata": {},
   "outputs": [],
   "source": [
    "prueba2 = []\n",
    "for i in datos_f:\n",
    "    for j in range(len(datos)):\n",
    "        if i in datosp[j]:\n",
    "            prueba2.append(f'{paths[j]}/{i}')\n",
    "\n",
    "print(prueba2[100])"
   ]
  },
  {
   "cell_type": "code",
   "execution_count": 36,
   "metadata": {},
   "outputs": [
    {
     "data": {
      "text/plain": [
       "764787"
      ]
     },
     "execution_count": 36,
     "metadata": {},
     "output_type": "execute_result"
    }
   ],
   "source": [
    "len(prueba)"
   ]
  }
 ],
 "metadata": {
  "kernelspec": {
   "display_name": "Python 3",
   "language": "python",
   "name": "python3"
  },
  "language_info": {
   "codemirror_mode": {
    "name": "ipython",
    "version": 3
   },
   "file_extension": ".py",
   "mimetype": "text/x-python",
   "name": "python",
   "nbconvert_exporter": "python",
   "pygments_lexer": "ipython3",
   "version": "3.10.0"
  }
 },
 "nbformat": 4,
 "nbformat_minor": 2
}
