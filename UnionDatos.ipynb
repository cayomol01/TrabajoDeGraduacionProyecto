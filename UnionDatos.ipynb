{
 "cells": [
  {
   "cell_type": "markdown",
   "metadata": {},
   "source": [
    "# Union de datos de todos los folders con audios"
   ]
  },
  {
   "cell_type": "markdown",
   "metadata": {},
   "source": [
    "### Importar librerias"
   ]
  },
  {
   "cell_type": "code",
   "execution_count": 1,
   "metadata": {},
   "outputs": [],
   "source": [
    "import shutil\n",
    "import os"
   ]
  },
  {
   "cell_type": "markdown",
   "metadata": {},
   "source": [
    "Crear los paths"
   ]
  },
  {
   "cell_type": "code",
   "execution_count": 2,
   "metadata": {},
   "outputs": [],
   "source": [
    "path1 = \"ASVspoof2021_DF_eval/flac\"\n",
    "path2 =\"ASVspoof2021_DF_eval_part01/ASVspoof2021_DF_eval/flac\"\n",
    "path3 = \"ASVspoof2021_DF_eval_part02/ASVspoof2021_DF_eval/flac\"\n",
    "path4 = \"ASVspoof2021_DF_eval_part03/ASVspoof2021_DF_eval/flac\"\n",
    "paths = [path1, path2, path3, path4]"
   ]
  },
  {
   "cell_type": "markdown",
   "metadata": {},
   "source": [
    "Obtener todos los nombres de los archivos de los paths mencionados"
   ]
  },
  {
   "cell_type": "code",
   "execution_count": 25,
   "metadata": {},
   "outputs": [],
   "source": [
    "datos1 = os.listdir(path=path1)\n",
    "datos2 = os.listdir(path=path2)\n",
    "datos3 = os.listdir(path=path3)\n",
    "datos4 = os.listdir(path=path4)\n",
    "\n",
    "datos = [datos1,datos2, datos3, datos4]\n"
   ]
  },
  {
   "cell_type": "markdown",
   "metadata": {},
   "source": [
    "Tener todos los nombres de archivos en una sola lista"
   ]
  },
  {
   "cell_type": "code",
   "execution_count": 27,
   "metadata": {},
   "outputs": [],
   "source": [
    "datos_finales = []\n",
    "for i in datos:\n",
    "    datos_finales.extend(i)        "
   ]
  },
  {
   "cell_type": "markdown",
   "metadata": {},
   "source": [
    "Funciones no necesarias debido a que se utilizo sets despues"
   ]
  },
  {
   "cell_type": "code",
   "execution_count": 6,
   "metadata": {},
   "outputs": [],
   "source": [
    "def ExtractNumber(path):\n",
    "    name, _ = path.split('.')\n",
    "    *_, number = name.split('_')\n",
    "    return number"
   ]
  },
  {
   "cell_type": "code",
   "execution_count": 7,
   "metadata": {},
   "outputs": [],
   "source": [
    "def BinarySearch(path, CompareList):\n",
    "    pathNum = ExtractNumber(path)\n",
    "    low = 0\n",
    "    high = len(CompareList)-1\n",
    "    while low <= high:\n",
    "    \n",
    "        mid = low + (high - low) // 2\n",
    "\n",
    "        # Check if x is present at mid\n",
    "        if ExtractNumber(CompareList[mid]) == pathNum:\n",
    "            return mid\n",
    "\n",
    "        # If x is greater, ignore left half\n",
    "        elif ExtractNumber(CompareList[mid]) < pathNum:\n",
    "            low = mid + 1\n",
    "\n",
    "        # If x is smaller, ignore right half\n",
    "        else:\n",
    "            high = mid - 1\n",
    "    return -1"
   ]
  },
  {
   "cell_type": "markdown",
   "metadata": {},
   "source": [
    "Quitar los nombres repetidos de la lista y ya solo quedarse con los necesarios en orden"
   ]
  },
  {
   "cell_type": "code",
   "execution_count": 12,
   "metadata": {},
   "outputs": [
    {
     "data": {
      "text/plain": [
       "611829"
      ]
     },
     "execution_count": 12,
     "metadata": {},
     "output_type": "execute_result"
    }
   ],
   "source": [
    "datos_f = list(set(datos_finales))\n",
    "datos_f.sort()\n",
    "\n",
    "len(datos_f)\n"
   ]
  },
  {
   "cell_type": "code",
   "execution_count": 14,
   "metadata": {},
   "outputs": [],
   "source": [
    "datosp = [set(i) for i in datos]"
   ]
  },
  {
   "cell_type": "code",
   "execution_count": 16,
   "metadata": {},
   "outputs": [
    {
     "name": "stdout",
     "output_type": "stream",
     "text": [
      "ASVspoof2021_DF_eval_part02/ASVspoof2021_DF_eval/flac/DF_E_3960860.flac\n",
      "611829\n"
     ]
    }
   ],
   "source": [
    "complete_paths = []\n",
    "for i in datos_f:\n",
    "    for j in range(len(datosp)):\n",
    "        if i in datosp[j]:\n",
    "            complete_paths.append(f'{paths[j]}/{i}')\n",
    "            break\n",
    "\n",
    "print(complete_paths[400000])\n",
    "print(len(complete_paths))"
   ]
  },
  {
   "cell_type": "code",
   "execution_count": 17,
   "metadata": {},
   "outputs": [
    {
     "data": {
      "text/plain": [
       "611829"
      ]
     },
     "execution_count": 17,
     "metadata": {},
     "output_type": "execute_result"
    }
   ],
   "source": [
    "len(prueba)"
   ]
  }
 ],
 "metadata": {
  "kernelspec": {
   "display_name": "Python 3",
   "language": "python",
   "name": "python3"
  },
  "language_info": {
   "codemirror_mode": {
    "name": "ipython",
    "version": 3
   },
   "file_extension": ".py",
   "mimetype": "text/x-python",
   "name": "python",
   "nbconvert_exporter": "python",
   "pygments_lexer": "ipython3",
   "version": "3.10.0"
  }
 },
 "nbformat": 4,
 "nbformat_minor": 2
}
